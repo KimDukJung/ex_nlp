{
  "nbformat": 4,
  "nbformat_minor": 0,
  "metadata": {
    "kernelspec": {
      "display_name": "Python 3",
      "language": "python",
      "name": "python3"
    },
    "language_info": {
      "codemirror_mode": {
        "name": "ipython",
        "version": 3
      },
      "file_extension": ".py",
      "mimetype": "text/x-python",
      "name": "python",
      "nbconvert_exporter": "python",
      "pygments_lexer": "ipython3",
      "version": "3.8.3"
    },
    "colab": {
      "provenance": [],
      "include_colab_link": true
    }
  },
  "cells": [
    {
      "cell_type": "markdown",
      "metadata": {
        "id": "view-in-github",
        "colab_type": "text"
      },
      "source": [
        "<a href=\"https://colab.research.google.com/github/KimDukJung/ex_nlp/blob/main/1_2_%ED%95%9C%EA%B8%80_%EC%9E%90%EC%97%B0%EC%96%B4_%EC%A0%84%EC%B2%98%EB%A6%AC_%EC%8B%A4%EC%8A%B5%ED%95%98%EA%B8%B0.ipynb\" target=\"_parent\"><img src=\"https://colab.research.google.com/assets/colab-badge.svg\" alt=\"Open In Colab\"/></a>"
      ]
    },
    {
      "cell_type": "markdown",
      "metadata": {
        "id": "wn9K0CoCdG5B"
      },
      "source": [
        "### 한글 자연어 전처리"
      ]
    },
    {
      "cell_type": "markdown",
      "metadata": {
        "id": "-ahG-_GmdG5D"
      },
      "source": [
        "---"
      ]
    },
    {
      "cell_type": "code",
      "metadata": {
        "id": "rzqUn079dG5E"
      },
      "source": [
        "text = \"\"\"저는 오늘, 세계 최고 명문대 중 하나로 꼽히는 이 대학을 졸업하는 여러분들과 함께 하게됨을 영광으로 생각합니다.\n",
        "저는 대학을 졸업하지 못했습니다. 솔직히 말해서 이번이 제가 대학졸업식을 이렇게 가까이서 보는 것은 처음입니다.\n",
        "오늘 저는 여러분들에게 제가 살아오면서 겪었떤 3가지 이야기를 해볼까 합니다.\n",
        "별로 대단한 이야기는 아니고 그냥 '세 가지의 이야기'입니다.\n",
        "\"\"\""
      ],
      "execution_count": 1,
      "outputs": []
    },
    {
      "cell_type": "markdown",
      "metadata": {
        "id": "Ws5CY3JwdG5E"
      },
      "source": [
        "---"
      ]
    },
    {
      "cell_type": "markdown",
      "metadata": {
        "id": "PYWlKbQydG5F"
      },
      "source": [
        "#### 특수문자 제거(Cleaning)"
      ]
    },
    {
      "cell_type": "code",
      "metadata": {
        "id": "8tdMsgkndG5F",
        "colab": {
          "base_uri": "https://localhost:8080/"
        },
        "outputId": "dbe1173b-7839-4162-d911-a6cd38573657"
      },
      "source": [
        "import string\n",
        "import re\n",
        "\n",
        "cleaned_text = re.sub('[^\\w\\s]','',text)\n",
        "print(cleaned_text)"
      ],
      "execution_count": 2,
      "outputs": [
        {
          "output_type": "stream",
          "name": "stdout",
          "text": [
            "저는 오늘 세계 최고 명문대 중 하나로 꼽히는 이 대학을 졸업하는 여러분들과 함께 하게됨을 영광으로 생각합니다\n",
            "저는 대학을 졸업하지 못했습니다 솔직히 말해서 이번이 제가 대학졸업식을 이렇게 가까이서 보는 것은 처음입니다\n",
            "오늘 저는 여러분들에게 제가 살아오면서 겪었떤 3가지 이야기를 해볼까 합니다\n",
            "별로 대단한 이야기는 아니고 그냥 세 가지의 이야기입니다\n",
            "\n"
          ]
        }
      ]
    },
    {
      "cell_type": "code",
      "metadata": {
        "id": "pAo8ayDhdG5G",
        "colab": {
          "base_uri": "https://localhost:8080/"
        },
        "outputId": "fc48e4f4-84de-4e0e-b63f-1b603c5d300e"
      },
      "source": [
        "cleaned_text = re.sub('\\n',' ',cleaned_text)\n",
        "print(cleaned_text)"
      ],
      "execution_count": 3,
      "outputs": [
        {
          "output_type": "stream",
          "name": "stdout",
          "text": [
            "저는 오늘 세계 최고 명문대 중 하나로 꼽히는 이 대학을 졸업하는 여러분들과 함께 하게됨을 영광으로 생각합니다 저는 대학을 졸업하지 못했습니다 솔직히 말해서 이번이 제가 대학졸업식을 이렇게 가까이서 보는 것은 처음입니다 오늘 저는 여러분들에게 제가 살아오면서 겪었떤 3가지 이야기를 해볼까 합니다 별로 대단한 이야기는 아니고 그냥 세 가지의 이야기입니다 \n"
          ]
        }
      ]
    },
    {
      "cell_type": "code",
      "metadata": {
        "id": "CUroFWPMdG5H"
      },
      "source": [],
      "execution_count": 3,
      "outputs": []
    },
    {
      "cell_type": "markdown",
      "metadata": {
        "id": "kEf8QsIZdG5H"
      },
      "source": [
        "#### 띄어쓰기"
      ]
    },
    {
      "cell_type": "code",
      "metadata": {
        "id": "WVslJ0W7dG5I",
        "colab": {
          "base_uri": "https://localhost:8080/"
        },
        "outputId": "3775fd40-a818-48a8-bc77-68be2e891834"
      },
      "source": [
        "non_space = re.sub('\\s', '', text)\n",
        "print(non_space)"
      ],
      "execution_count": 4,
      "outputs": [
        {
          "output_type": "stream",
          "name": "stdout",
          "text": [
            "저는오늘,세계최고명문대중하나로꼽히는이대학을졸업하는여러분들과함께하게됨을영광으로생각합니다.저는대학을졸업하지못했습니다.솔직히말해서이번이제가대학졸업식을이렇게가까이서보는것은처음입니다.오늘저는여러분들에게제가살아오면서겪었떤3가지이야기를해볼까합니다.별로대단한이야기는아니고그냥'세가지의이야기'입니다.\n"
          ]
        }
      ]
    },
    {
      "cell_type": "code",
      "metadata": {
        "id": "btShVO4VB3fV"
      },
      "source": [
        "# !pip install git+https://github.com/haven-jeon/PyKoSpacing.git"
      ],
      "execution_count": 5,
      "outputs": []
    },
    {
      "cell_type": "code",
      "metadata": {
        "id": "-WHBlK4Mdm2_",
        "colab": {
          "base_uri": "https://localhost:8080/"
        },
        "outputId": "ab9f133a-35d5-4ab4-ca2f-4fcb7ea00386"
      },
      "source": [
        "from pykospacing import Spacing\n",
        "\n",
        "spacing = Spacing()\n",
        "new_sent = spacing(non_space)\n",
        "print(new_sent)"
      ],
      "execution_count": 6,
      "outputs": [
        {
          "output_type": "stream",
          "name": "stdout",
          "text": [
            "저는 오늘, 세계 최고 명문대 중 하나로 꼽히는 이 대학을 졸업하는 여러분들과 함께하게 됨을 영광으로 생각합니다. 저는 대학을 졸업하지 못했습니다. 솔직히 말해서 이번이제가 대학 졸업식을 이렇게 가까이서 보는 것은 처음입니다. 오늘 저는 여러분들에게 제가 살아오면서 겪었떤 3가지 이야기를 해볼까 합니다. 별로 대단한 이야기는 아니고 그냥 '세가지의 이야기'입니다.\n"
          ]
        }
      ]
    },
    {
      "cell_type": "code",
      "metadata": {
        "id": "1y36pr5LeKBv"
      },
      "source": [],
      "execution_count": 6,
      "outputs": []
    },
    {
      "cell_type": "markdown",
      "metadata": {
        "id": "xWxp9jWkdG5J"
      },
      "source": [
        "#### 토큰화(Tokenization)"
      ]
    },
    {
      "cell_type": "code",
      "metadata": {
        "id": "Ax4rtrGRdG5J",
        "colab": {
          "base_uri": "https://localhost:8080/"
        },
        "outputId": "ce86a8de-d37c-42fe-aaf4-98f0aaf43843"
      },
      "source": [
        "!pip install kss"
      ],
      "execution_count": 10,
      "outputs": [
        {
          "output_type": "stream",
          "name": "stdout",
          "text": [
            "Collecting kss\n",
            "  Using cached kss-6.0.4-cp310-cp310-linux_x86_64.whl\n",
            "Collecting emoji==1.2.0 (from kss)\n",
            "  Using cached emoji-1.2.0-py3-none-any.whl.metadata (4.3 kB)\n",
            "Collecting pecab (from kss)\n",
            "  Using cached pecab-1.0.8-py3-none-any.whl\n",
            "Requirement already satisfied: networkx in /usr/local/lib/python3.10/dist-packages (from kss) (3.4.2)\n",
            "Collecting jamo (from kss)\n",
            "  Using cached jamo-0.4.1-py3-none-any.whl.metadata (2.3 kB)\n",
            "Collecting hangul-jamo (from kss)\n",
            "  Using cached hangul_jamo-1.0.1-py3-none-any.whl.metadata (899 bytes)\n",
            "Collecting tossi (from kss)\n",
            "  Using cached tossi-0.3.1-py3-none-any.whl\n",
            "Collecting distance (from kss)\n",
            "  Using cached Distance-0.1.3-py3-none-any.whl\n",
            "Collecting pyyaml==6.0 (from kss)\n",
            "  Using cached PyYAML-6.0-cp310-cp310-manylinux_2_5_x86_64.manylinux1_x86_64.manylinux_2_12_x86_64.manylinux2010_x86_64.whl.metadata (2.0 kB)\n",
            "Collecting unidecode (from kss)\n",
            "  Using cached Unidecode-1.3.8-py3-none-any.whl.metadata (13 kB)\n",
            "Collecting cmudict (from kss)\n",
            "  Using cached cmudict-1.0.31-py3-none-any.whl.metadata (3.5 kB)\n",
            "Collecting koparadigm (from kss)\n",
            "  Using cached koparadigm-0.10.0-py3-none-any.whl.metadata (2.9 kB)\n",
            "Collecting kollocate (from kss)\n",
            "  Using cached kollocate-0.0.2-py3-none-any.whl.metadata (1.8 kB)\n",
            "Collecting bs4 (from kss)\n",
            "  Using cached bs4-0.0.2-py2.py3-none-any.whl.metadata (411 bytes)\n",
            "Requirement already satisfied: numpy in /usr/local/lib/python3.10/dist-packages (from kss) (1.26.4)\n",
            "Requirement already satisfied: pytest in /usr/local/lib/python3.10/dist-packages (from kss) (8.3.3)\n",
            "Requirement already satisfied: scipy in /usr/local/lib/python3.10/dist-packages (from kss) (1.13.1)\n",
            "Requirement already satisfied: beautifulsoup4 in /usr/local/lib/python3.10/dist-packages (from bs4->kss) (4.12.3)\n",
            "Requirement already satisfied: importlib-metadata>=5 in /usr/local/lib/python3.10/dist-packages (from cmudict->kss) (8.5.0)\n",
            "Requirement already satisfied: importlib-resources>=5 in /usr/local/lib/python3.10/dist-packages (from cmudict->kss) (6.4.5)\n",
            "Collecting whoosh (from kollocate->kss)\n",
            "  Using cached Whoosh-2.7.4-py2.py3-none-any.whl.metadata (3.1 kB)\n",
            "Collecting xlrd==1.2.0 (from koparadigm->kss)\n",
            "  Using cached xlrd-1.2.0-py2.py3-none-any.whl.metadata (1.3 kB)\n",
            "Requirement already satisfied: pyarrow in /usr/local/lib/python3.10/dist-packages (from pecab->kss) (17.0.0)\n",
            "Requirement already satisfied: regex in /usr/local/lib/python3.10/dist-packages (from pecab->kss) (2024.9.11)\n",
            "Requirement already satisfied: iniconfig in /usr/local/lib/python3.10/dist-packages (from pytest->kss) (2.0.0)\n",
            "Requirement already satisfied: packaging in /usr/local/lib/python3.10/dist-packages (from pytest->kss) (24.2)\n",
            "Requirement already satisfied: pluggy<2,>=1.5 in /usr/local/lib/python3.10/dist-packages (from pytest->kss) (1.5.0)\n",
            "Requirement already satisfied: exceptiongroup>=1.0.0rc8 in /usr/local/lib/python3.10/dist-packages (from pytest->kss) (1.2.2)\n",
            "Requirement already satisfied: tomli>=1 in /usr/local/lib/python3.10/dist-packages (from pytest->kss) (2.1.0)\n",
            "Collecting bidict (from tossi->kss)\n",
            "  Using cached bidict-0.23.1-py3-none-any.whl.metadata (8.7 kB)\n",
            "Requirement already satisfied: six in /usr/local/lib/python3.10/dist-packages (from tossi->kss) (1.16.0)\n",
            "Requirement already satisfied: zipp>=3.20 in /usr/local/lib/python3.10/dist-packages (from importlib-metadata>=5->cmudict->kss) (3.21.0)\n",
            "Requirement already satisfied: soupsieve>1.2 in /usr/local/lib/python3.10/dist-packages (from beautifulsoup4->bs4->kss) (2.6)\n",
            "Using cached emoji-1.2.0-py3-none-any.whl (131 kB)\n",
            "Using cached PyYAML-6.0-cp310-cp310-manylinux_2_5_x86_64.manylinux1_x86_64.manylinux_2_12_x86_64.manylinux2010_x86_64.whl (682 kB)\n",
            "Using cached bs4-0.0.2-py2.py3-none-any.whl (1.2 kB)\n",
            "Using cached cmudict-1.0.31-py3-none-any.whl (939 kB)\n",
            "Using cached hangul_jamo-1.0.1-py3-none-any.whl (4.4 kB)\n",
            "Using cached jamo-0.4.1-py3-none-any.whl (9.5 kB)\n",
            "Using cached kollocate-0.0.2-py3-none-any.whl (72.2 MB)\n",
            "Using cached koparadigm-0.10.0-py3-none-any.whl (1.6 MB)\n",
            "Using cached xlrd-1.2.0-py2.py3-none-any.whl (103 kB)\n",
            "Using cached Unidecode-1.3.8-py3-none-any.whl (235 kB)\n",
            "Using cached bidict-0.23.1-py3-none-any.whl (32 kB)\n",
            "Using cached Whoosh-2.7.4-py2.py3-none-any.whl (468 kB)\n",
            "Installing collected packages: whoosh, jamo, hangul-jamo, emoji, distance, xlrd, unidecode, pyyaml, kollocate, bidict, tossi, pecab, koparadigm, cmudict, bs4, kss\n",
            "  Attempting uninstall: xlrd\n",
            "    Found existing installation: xlrd 2.0.1\n",
            "    Uninstalling xlrd-2.0.1:\n",
            "      Successfully uninstalled xlrd-2.0.1\n",
            "  Attempting uninstall: pyyaml\n",
            "    Found existing installation: PyYAML 6.0.2\n",
            "    Uninstalling PyYAML-6.0.2:\n",
            "      Successfully uninstalled PyYAML-6.0.2\n",
            "Successfully installed bidict-0.23.1 bs4-0.0.2 cmudict-1.0.31 distance-0.1.3 emoji-1.2.0 hangul-jamo-1.0.1 jamo-0.4.1 kollocate-0.0.2 koparadigm-0.10.0 kss-6.0.4 pecab-1.0.8 pyyaml-6.0 tossi-0.3.1 unidecode-1.3.8 whoosh-2.7.4 xlrd-1.2.0\n"
          ]
        }
      ]
    },
    {
      "cell_type": "code",
      "metadata": {
        "id": "Qm7ilXN-dG5J",
        "colab": {
          "base_uri": "https://localhost:8080/"
        },
        "outputId": "99c0da88-4947-48b9-ec4f-093db70f0422"
      },
      "source": [
        "import kss\n",
        "\n",
        "sent_tokens = kss.split_sentences(cleaned_text)\n",
        "print(sent_tokens)"
      ],
      "execution_count": 11,
      "outputs": [
        {
          "output_type": "stream",
          "name": "stderr",
          "text": [
            "WARNING:root:Oh! You have mecab in your environment. Kss will take this as a backend! :D\n",
            "\n"
          ]
        },
        {
          "output_type": "stream",
          "name": "stdout",
          "text": [
            "['저는 오늘 세계 최고 명문대 중 하나로 꼽히는 이 대학을 졸업하는 여러분들과 함께 하게됨을 영광으로 생각합니다', '저는 대학을 졸업하지 못했습니다', '솔직히 말해서 이번이 제가 대학졸업식을 이렇게 가까이서 보는 것은 처음입니다', '오늘 저는 여러분들에게 제가 살아오면서 겪었떤 3가지 이야기를 해볼까 합니다', '별로 대단한 이야기는 아니고 그냥 세 가지의 이야기입니다']\n"
          ]
        }
      ]
    },
    {
      "cell_type": "code",
      "metadata": {
        "id": "Rd_QVxw8dG5K",
        "colab": {
          "base_uri": "https://localhost:8080/"
        },
        "outputId": "2b5ce1c0-ba44-41e4-bf35-64e09daa6c1e"
      },
      "source": [
        "def tokenizer(words):\n",
        "  tokens = words.split()\n",
        "  return tokens\n",
        "\n",
        "tokens = tokenizer(cleaned_text)\n",
        "print(tokens)"
      ],
      "execution_count": 12,
      "outputs": [
        {
          "output_type": "stream",
          "name": "stdout",
          "text": [
            "['저는', '오늘', '세계', '최고', '명문대', '중', '하나로', '꼽히는', '이', '대학을', '졸업하는', '여러분들과', '함께', '하게됨을', '영광으로', '생각합니다', '저는', '대학을', '졸업하지', '못했습니다', '솔직히', '말해서', '이번이', '제가', '대학졸업식을', '이렇게', '가까이서', '보는', '것은', '처음입니다', '오늘', '저는', '여러분들에게', '제가', '살아오면서', '겪었떤', '3가지', '이야기를', '해볼까', '합니다', '별로', '대단한', '이야기는', '아니고', '그냥', '세', '가지의', '이야기입니다']\n"
          ]
        }
      ]
    },
    {
      "cell_type": "markdown",
      "metadata": {
        "id": "AO_-hJj2wzih"
      },
      "source": [
        "#### 불용어 제거(Stopword Elimination)"
      ]
    },
    {
      "cell_type": "code",
      "metadata": {
        "id": "TNI56uc6dG5K",
        "colab": {
          "base_uri": "https://localhost:8080/",
          "height": 78
        },
        "outputId": "be0d1b8f-3ed2-4301-8cf2-f266d045f143"
      },
      "source": [
        "from google.colab import files\n",
        "import os\n",
        "\n",
        "data_dir = 'data'\n",
        "\n",
        "if not os.path.exists(data_dir):\n",
        "  os.mkdir(data_dir)\n",
        "os.chdir(data_dir)\n",
        "files.upload()\n",
        "os.chdir('..')"
      ],
      "execution_count": 32,
      "outputs": [
        {
          "output_type": "display_data",
          "data": {
            "text/plain": [
              "<IPython.core.display.HTML object>"
            ],
            "text/html": [
              "\n",
              "     <input type=\"file\" id=\"files-4392beaf-94e2-4bb2-ba69-7bf1c2950be5\" name=\"files[]\" multiple disabled\n",
              "        style=\"border:none\" />\n",
              "     <output id=\"result-4392beaf-94e2-4bb2-ba69-7bf1c2950be5\">\n",
              "      Upload widget is only available when the cell has been executed in the\n",
              "      current browser session. Please rerun this cell to enable.\n",
              "      </output>\n",
              "      <script>// Copyright 2017 Google LLC\n",
              "//\n",
              "// Licensed under the Apache License, Version 2.0 (the \"License\");\n",
              "// you may not use this file except in compliance with the License.\n",
              "// You may obtain a copy of the License at\n",
              "//\n",
              "//      http://www.apache.org/licenses/LICENSE-2.0\n",
              "//\n",
              "// Unless required by applicable law or agreed to in writing, software\n",
              "// distributed under the License is distributed on an \"AS IS\" BASIS,\n",
              "// WITHOUT WARRANTIES OR CONDITIONS OF ANY KIND, either express or implied.\n",
              "// See the License for the specific language governing permissions and\n",
              "// limitations under the License.\n",
              "\n",
              "/**\n",
              " * @fileoverview Helpers for google.colab Python module.\n",
              " */\n",
              "(function(scope) {\n",
              "function span(text, styleAttributes = {}) {\n",
              "  const element = document.createElement('span');\n",
              "  element.textContent = text;\n",
              "  for (const key of Object.keys(styleAttributes)) {\n",
              "    element.style[key] = styleAttributes[key];\n",
              "  }\n",
              "  return element;\n",
              "}\n",
              "\n",
              "// Max number of bytes which will be uploaded at a time.\n",
              "const MAX_PAYLOAD_SIZE = 100 * 1024;\n",
              "\n",
              "function _uploadFiles(inputId, outputId) {\n",
              "  const steps = uploadFilesStep(inputId, outputId);\n",
              "  const outputElement = document.getElementById(outputId);\n",
              "  // Cache steps on the outputElement to make it available for the next call\n",
              "  // to uploadFilesContinue from Python.\n",
              "  outputElement.steps = steps;\n",
              "\n",
              "  return _uploadFilesContinue(outputId);\n",
              "}\n",
              "\n",
              "// This is roughly an async generator (not supported in the browser yet),\n",
              "// where there are multiple asynchronous steps and the Python side is going\n",
              "// to poll for completion of each step.\n",
              "// This uses a Promise to block the python side on completion of each step,\n",
              "// then passes the result of the previous step as the input to the next step.\n",
              "function _uploadFilesContinue(outputId) {\n",
              "  const outputElement = document.getElementById(outputId);\n",
              "  const steps = outputElement.steps;\n",
              "\n",
              "  const next = steps.next(outputElement.lastPromiseValue);\n",
              "  return Promise.resolve(next.value.promise).then((value) => {\n",
              "    // Cache the last promise value to make it available to the next\n",
              "    // step of the generator.\n",
              "    outputElement.lastPromiseValue = value;\n",
              "    return next.value.response;\n",
              "  });\n",
              "}\n",
              "\n",
              "/**\n",
              " * Generator function which is called between each async step of the upload\n",
              " * process.\n",
              " * @param {string} inputId Element ID of the input file picker element.\n",
              " * @param {string} outputId Element ID of the output display.\n",
              " * @return {!Iterable<!Object>} Iterable of next steps.\n",
              " */\n",
              "function* uploadFilesStep(inputId, outputId) {\n",
              "  const inputElement = document.getElementById(inputId);\n",
              "  inputElement.disabled = false;\n",
              "\n",
              "  const outputElement = document.getElementById(outputId);\n",
              "  outputElement.innerHTML = '';\n",
              "\n",
              "  const pickedPromise = new Promise((resolve) => {\n",
              "    inputElement.addEventListener('change', (e) => {\n",
              "      resolve(e.target.files);\n",
              "    });\n",
              "  });\n",
              "\n",
              "  const cancel = document.createElement('button');\n",
              "  inputElement.parentElement.appendChild(cancel);\n",
              "  cancel.textContent = 'Cancel upload';\n",
              "  const cancelPromise = new Promise((resolve) => {\n",
              "    cancel.onclick = () => {\n",
              "      resolve(null);\n",
              "    };\n",
              "  });\n",
              "\n",
              "  // Wait for the user to pick the files.\n",
              "  const files = yield {\n",
              "    promise: Promise.race([pickedPromise, cancelPromise]),\n",
              "    response: {\n",
              "      action: 'starting',\n",
              "    }\n",
              "  };\n",
              "\n",
              "  cancel.remove();\n",
              "\n",
              "  // Disable the input element since further picks are not allowed.\n",
              "  inputElement.disabled = true;\n",
              "\n",
              "  if (!files) {\n",
              "    return {\n",
              "      response: {\n",
              "        action: 'complete',\n",
              "      }\n",
              "    };\n",
              "  }\n",
              "\n",
              "  for (const file of files) {\n",
              "    const li = document.createElement('li');\n",
              "    li.append(span(file.name, {fontWeight: 'bold'}));\n",
              "    li.append(span(\n",
              "        `(${file.type || 'n/a'}) - ${file.size} bytes, ` +\n",
              "        `last modified: ${\n",
              "            file.lastModifiedDate ? file.lastModifiedDate.toLocaleDateString() :\n",
              "                                    'n/a'} - `));\n",
              "    const percent = span('0% done');\n",
              "    li.appendChild(percent);\n",
              "\n",
              "    outputElement.appendChild(li);\n",
              "\n",
              "    const fileDataPromise = new Promise((resolve) => {\n",
              "      const reader = new FileReader();\n",
              "      reader.onload = (e) => {\n",
              "        resolve(e.target.result);\n",
              "      };\n",
              "      reader.readAsArrayBuffer(file);\n",
              "    });\n",
              "    // Wait for the data to be ready.\n",
              "    let fileData = yield {\n",
              "      promise: fileDataPromise,\n",
              "      response: {\n",
              "        action: 'continue',\n",
              "      }\n",
              "    };\n",
              "\n",
              "    // Use a chunked sending to avoid message size limits. See b/62115660.\n",
              "    let position = 0;\n",
              "    do {\n",
              "      const length = Math.min(fileData.byteLength - position, MAX_PAYLOAD_SIZE);\n",
              "      const chunk = new Uint8Array(fileData, position, length);\n",
              "      position += length;\n",
              "\n",
              "      const base64 = btoa(String.fromCharCode.apply(null, chunk));\n",
              "      yield {\n",
              "        response: {\n",
              "          action: 'append',\n",
              "          file: file.name,\n",
              "          data: base64,\n",
              "        },\n",
              "      };\n",
              "\n",
              "      let percentDone = fileData.byteLength === 0 ?\n",
              "          100 :\n",
              "          Math.round((position / fileData.byteLength) * 100);\n",
              "      percent.textContent = `${percentDone}% done`;\n",
              "\n",
              "    } while (position < fileData.byteLength);\n",
              "  }\n",
              "\n",
              "  // All done.\n",
              "  yield {\n",
              "    response: {\n",
              "      action: 'complete',\n",
              "    }\n",
              "  };\n",
              "}\n",
              "\n",
              "scope.google = scope.google || {};\n",
              "scope.google.colab = scope.google.colab || {};\n",
              "scope.google.colab._files = {\n",
              "  _uploadFiles,\n",
              "  _uploadFilesContinue,\n",
              "};\n",
              "})(self);\n",
              "</script> "
            ]
          },
          "metadata": {}
        },
        {
          "output_type": "stream",
          "name": "stdout",
          "text": [
            "Saving stopword_dict.csv to stopword_dict.csv\n"
          ]
        }
      ]
    },
    {
      "cell_type": "code",
      "metadata": {
        "id": "Ym7Qt_1ZdG5L",
        "colab": {
          "base_uri": "https://localhost:8080/"
        },
        "outputId": "66008b60-817c-4be6-9cfe-e937cd71d5e8"
      },
      "source": [
        "import pandas as pd\n",
        "file_path = 'data/stopword_dict.csv'\n",
        "if not os.path.exists(file_path):\n",
        "    print(f\"Error: File not found at {file_path}. Please ensure you have uploaded the file correctly.\")\n",
        "else:\n",
        "    stop = pd.read_csv(file_path, encoding='cp949')\n",
        "    print(stop[:10])"
      ],
      "execution_count": 34,
      "outputs": [
        {
          "output_type": "stream",
          "name": "stdout",
          "text": [
            "  stopword\n",
            "0        그\n",
            "1       라는\n",
            "2        바\n",
            "3      입니다\n",
            "4       하고\n"
          ]
        }
      ]
    },
    {
      "cell_type": "code",
      "metadata": {
        "id": "wi-b1ZS_dG5M",
        "colab": {
          "base_uri": "https://localhost:8080/"
        },
        "outputId": "bff0b4ec-02f8-428f-a281-463d11e7dd70"
      },
      "source": [
        "print(list(stop.stopword))"
      ],
      "execution_count": 35,
      "outputs": [
        {
          "output_type": "stream",
          "name": "stdout",
          "text": [
            "['그', '라는', '바', '입니다', '하고']\n"
          ]
        }
      ]
    },
    {
      "cell_type": "code",
      "metadata": {
        "id": "5r00Q_16dG5M",
        "colab": {
          "base_uri": "https://localhost:8080/"
        },
        "outputId": "eb822978-7772-49fb-a1f3-60f7e2c63627"
      },
      "source": [
        "tokens = [token for token in tokens if token not in list(stop.stopword)]\n",
        "print(tokens)"
      ],
      "execution_count": 36,
      "outputs": [
        {
          "output_type": "stream",
          "name": "stdout",
          "text": [
            "['저는', '오늘', '세계', '최고', '명문대', '중', '하나로', '꼽히는', '이', '대학을', '졸업하는', '여러분들과', '함께', '하게됨을', '영광으로', '생각합니다', '저는', '대학을', '졸업하지', '못했습니다', '솔직히', '말해서', '이번이', '제가', '대학졸업식을', '이렇게', '가까이서', '보는', '것은', '처음입니다', '오늘', '저는', '여러분들에게', '제가', '살아오면서', '겪었떤', '3가지', '이야기를', '해볼까', '합니다', '별로', '대단한', '이야기는', '아니고', '그냥', '세', '가지의', '이야기입니다']\n"
          ]
        }
      ]
    },
    {
      "cell_type": "code",
      "metadata": {
        "id": "xYXt57AgdG5N"
      },
      "source": [],
      "execution_count": null,
      "outputs": []
    }
  ]
}